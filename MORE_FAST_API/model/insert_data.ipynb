{
 "cells": [
  {
   "cell_type": "code",
   "execution_count": 2,
   "metadata": {},
   "outputs": [],
   "source": [
    "import pandas as pd"
   ]
  },
  {
   "cell_type": "code",
   "execution_count": 3,
   "metadata": {},
   "outputs": [],
   "source": [
    "data = pd.read_excel('MORE_DB_date.xlsx')"
   ]
  },
  {
   "cell_type": "code",
   "execution_count": 5,
   "metadata": {},
   "outputs": [
    {
     "data": {
      "text/html": [
       "<div>\n",
       "<style scoped>\n",
       "    .dataframe tbody tr th:only-of-type {\n",
       "        vertical-align: middle;\n",
       "    }\n",
       "\n",
       "    .dataframe tbody tr th {\n",
       "        vertical-align: top;\n",
       "    }\n",
       "\n",
       "    .dataframe thead th {\n",
       "        text-align: right;\n",
       "    }\n",
       "</style>\n",
       "<table border=\"1\" class=\"dataframe\">\n",
       "  <thead>\n",
       "    <tr style=\"text-align: right;\">\n",
       "      <th></th>\n",
       "      <th>Артикул</th>\n",
       "      <th>Наименоване товара (цена за 1 кг/л)</th>\n",
       "      <th>Страна</th>\n",
       "      <th>Ставка НДС\\nрозн, %</th>\n",
       "      <th>Кол-во</th>\n",
       "      <th>Отпускная цена</th>\n",
       "      <th>Опт. надб.</th>\n",
       "      <th>Торго-\\nвая на-\\nценка</th>\n",
       "      <th>Ставка НДС поставщика</th>\n",
       "      <th>Розн. цена с НДС</th>\n",
       "      <th>Розничная сумма с НДС</th>\n",
       "      <th>поставщик</th>\n",
       "      <th>Unnamed: 12</th>\n",
       "      <th>Unnamed: 13</th>\n",
       "      <th>Unnamed: 14</th>\n",
       "    </tr>\n",
       "  </thead>\n",
       "  <tbody>\n",
       "    <tr>\n",
       "      <th>0</th>\n",
       "      <td>1005559</td>\n",
       "      <td>Леденцы Орбит лимон и мята 35г (4.49 100 г)</td>\n",
       "      <td>Россия</td>\n",
       "      <td>20</td>\n",
       "      <td>8</td>\n",
       "      <td>0,9</td>\n",
       "      <td>0</td>\n",
       "      <td>45.37 (45.00)</td>\n",
       "      <td>20</td>\n",
       "      <td>1.57</td>\n",
       "      <td>12.56</td>\n",
       "      <td>АЛИДИ-Вест ИООО</td>\n",
       "      <td>04.02.2020</td>\n",
       "      <td>NaN</td>\n",
       "      <td>NaN</td>\n",
       "    </tr>\n",
       "    <tr>\n",
       "      <th>1</th>\n",
       "      <td>1001403</td>\n",
       "      <td>Драже М&amp; М с арахисом 45г (3.36 100 г)</td>\n",
       "      <td>Россия</td>\n",
       "      <td>20</td>\n",
       "      <td>32</td>\n",
       "      <td>0,87</td>\n",
       "      <td>0</td>\n",
       "      <td>44.64 (45.00)</td>\n",
       "      <td>20</td>\n",
       "      <td>1.51</td>\n",
       "      <td>48.32</td>\n",
       "      <td>АЛИДИ-Вест ИООО</td>\n",
       "      <td>04.02.2020</td>\n",
       "      <td>NaN</td>\n",
       "      <td>NaN</td>\n",
       "    </tr>\n",
       "    <tr>\n",
       "      <th>2</th>\n",
       "      <td>1001404</td>\n",
       "      <td>Батончик Милки Вэй 26г (2.54 100 г)</td>\n",
       "      <td>Россия</td>\n",
       "      <td>20</td>\n",
       "      <td>108</td>\n",
       "      <td>0,38</td>\n",
       "      <td>0</td>\n",
       "      <td>44.74 (45.00)</td>\n",
       "      <td>20</td>\n",
       "      <td>0.66</td>\n",
       "      <td>71.28</td>\n",
       "      <td>АЛИДИ-Вест ИООО</td>\n",
       "      <td>04.02.2020</td>\n",
       "      <td>NaN</td>\n",
       "      <td>NaN</td>\n",
       "    </tr>\n",
       "    <tr>\n",
       "      <th>3</th>\n",
       "      <td>1001395</td>\n",
       "      <td>Батончик Марс 50г (24.4 кг)</td>\n",
       "      <td>Россия</td>\n",
       "      <td>20</td>\n",
       "      <td>36</td>\n",
       "      <td>0,7</td>\n",
       "      <td>0</td>\n",
       "      <td>45.24 (45.00)</td>\n",
       "      <td>20</td>\n",
       "      <td>1.22</td>\n",
       "      <td>43.92</td>\n",
       "      <td>АЛИДИ-Вест ИООО</td>\n",
       "      <td>04.02.2020</td>\n",
       "      <td>NaN</td>\n",
       "      <td>NaN</td>\n",
       "    </tr>\n",
       "    <tr>\n",
       "      <th>4</th>\n",
       "      <td>1001392</td>\n",
       "      <td>Батончик Сникерс 95г (19.37 кг)</td>\n",
       "      <td>Россия</td>\n",
       "      <td>20</td>\n",
       "      <td>32</td>\n",
       "      <td>1,18</td>\n",
       "      <td>0</td>\n",
       "      <td>29.94 (30.00)</td>\n",
       "      <td>20</td>\n",
       "      <td>1.84</td>\n",
       "      <td>58.88</td>\n",
       "      <td>АЛИДИ-Вест ИООО</td>\n",
       "      <td>04.02.2020</td>\n",
       "      <td>NaN</td>\n",
       "      <td>NaN</td>\n",
       "    </tr>\n",
       "  </tbody>\n",
       "</table>\n",
       "</div>"
      ],
      "text/plain": [
       "   Артикул          Наименоване товара (цена за 1 кг/л)  Страна  \\\n",
       "0  1005559  Леденцы Орбит лимон и мята 35г (4.49 100 г)  Россия   \n",
       "1  1001403       Драже М& М с арахисом 45г (3.36 100 г)  Россия   \n",
       "2  1001404          Батончик Милки Вэй 26г (2.54 100 г)  Россия   \n",
       "3  1001395                  Батончик Марс 50г (24.4 кг)  Россия   \n",
       "4  1001392              Батончик Сникерс 95г (19.37 кг)  Россия   \n",
       "\n",
       "   Ставка НДС\\nрозн, % Кол-во Отпускная цена  Опт. надб.  \\\n",
       "0                   20      8            0,9           0   \n",
       "1                   20     32           0,87           0   \n",
       "2                   20    108           0,38           0   \n",
       "3                   20     36            0,7           0   \n",
       "4                   20     32           1,18           0   \n",
       "\n",
       "  Торго-\\nвая на-\\nценка  Ставка НДС поставщика  Розн. цена с НДС  \\\n",
       "0          45.37 (45.00)                     20              1.57   \n",
       "1          44.64 (45.00)                     20              1.51   \n",
       "2          44.74 (45.00)                     20              0.66   \n",
       "3          45.24 (45.00)                     20              1.22   \n",
       "4          29.94 (30.00)                     20              1.84   \n",
       "\n",
       "   Розничная сумма с НДС        поставщик Unnamed: 12  Unnamed: 13 Unnamed: 14  \n",
       "0                  12.56  АЛИДИ-Вест ИООО  04.02.2020          NaN         NaN  \n",
       "1                  48.32  АЛИДИ-Вест ИООО  04.02.2020          NaN         NaN  \n",
       "2                  71.28  АЛИДИ-Вест ИООО  04.02.2020          NaN         NaN  \n",
       "3                  43.92  АЛИДИ-Вест ИООО  04.02.2020          NaN         NaN  \n",
       "4                  58.88  АЛИДИ-Вест ИООО  04.02.2020          NaN         NaN  "
      ]
     },
     "execution_count": 5,
     "metadata": {},
     "output_type": "execute_result"
    }
   ],
   "source": [
    "data.head()"
   ]
  },
  {
   "cell_type": "code",
   "execution_count": 4,
   "metadata": {},
   "outputs": [],
   "source": [
    "import psycopg2"
   ]
  },
  {
   "cell_type": "code",
   "execution_count": 5,
   "metadata": {},
   "outputs": [],
   "source": [
    "conn = psycopg2.connect(dbname='more', user='postgres', \n",
    "                        password='1458', host='localhost')"
   ]
  },
  {
   "cell_type": "code",
   "execution_count": 44,
   "metadata": {},
   "outputs": [],
   "source": [
    "cursor = conn.cursor()"
   ]
  },
  {
   "cell_type": "code",
   "execution_count": 9,
   "metadata": {},
   "outputs": [],
   "source": [
    "conn.rollback()"
   ]
  },
  {
   "cell_type": "code",
   "execution_count": 53,
   "metadata": {},
   "outputs": [],
   "source": [
    "\n",
    "with conn.cursor() as cursor:\n",
    "    conn.autocommit = True\n",
    "    for country in data['Страна'].unique():\n",
    "        query = f'INSERT INTO more_table.country (name) VALUES (\\'{country}\\');'\n",
    "        cursor.execute(query)\n",
    "    "
   ]
  },
  {
   "cell_type": "code",
   "execution_count": 55,
   "metadata": {},
   "outputs": [],
   "source": [
    "with conn.cursor() as cursor:\n",
    "    conn.autocommit = True\n",
    "    for prod in data['Наименоване товара (цена за 1 кг/л)'].unique()[:20]:\n",
    "        query = f'INSERT INTO more_table.product (name, unit) VALUES (\\'{prod}\\', \\'unit\\');'\n",
    "        cursor.execute(query)"
   ]
  },
  {
   "cell_type": "code",
   "execution_count": 58,
   "metadata": {},
   "outputs": [],
   "source": [
    "with conn.cursor() as cursor:\n",
    "    conn.autocommit = True\n",
    "    for sap in data['поставщик'].unique():\n",
    "        query = f'INSERT INTO more_table.saplier (name, email, tel) VALUES (\\'{sap}\\', \\'{sap}@gmail.com\\', \\'+34241241\\');'\n",
    "        cursor.execute(query)"
   ]
  },
  {
   "cell_type": "code",
   "execution_count": 30,
   "metadata": {},
   "outputs": [
    {
     "ename": "ForeignKeyViolation",
     "evalue": "insert or update on table \"delivery\" violates foreign key constraint \"delivery_idproduct_fkey\"\nDETAIL:  Key (idproduct)=(22) is not present in table \"product\".\nCONTEXT:  SQL statement \"INSERT INTO more_table.delivery (idproduct, idcountry, idsumplier, unit_price, quantity)\n        VALUES (\n                 id_prod,\n                 (SELECT idcountry FROM  more_table.country WHERE name=c_name),\n                 (SELECT idsaplier FROM  more_table.saplier WHERE name=sup_name),\n                 u_price,\n                 quant\n                )\"\nPL/pgSQL function more_table.insert_deliver_warehouse(text,text,text,double precision,double precision) line 6 at SQL statement\n",
     "output_type": "error",
     "traceback": [
      "\u001b[0;31m---------------------------------------------------------------------------\u001b[0m",
      "\u001b[0;31mForeignKeyViolation\u001b[0m                       Traceback (most recent call last)",
      "\u001b[0;32m/tmp/ipykernel_4594/1577808804.py\u001b[0m in \u001b[0;36m<module>\u001b[0;34m\u001b[0m\n\u001b[1;32m      8\u001b[0m         \u001b[0mquant\u001b[0m \u001b[0;34m=\u001b[0m \u001b[0mdata\u001b[0m\u001b[0;34m.\u001b[0m\u001b[0mloc\u001b[0m\u001b[0;34m[\u001b[0m\u001b[0mrow\u001b[0m\u001b[0;34m,\u001b[0m \u001b[0;34m'Кол-во'\u001b[0m\u001b[0;34m]\u001b[0m\u001b[0;34m\u001b[0m\u001b[0;34m\u001b[0m\u001b[0m\n\u001b[1;32m      9\u001b[0m         \u001b[0mquery\u001b[0m \u001b[0;34m=\u001b[0m \u001b[0;34mf'SELECT  more_table.insert_deliver_warehouse(\\'{prod_name}\\'::text,\\'{c_name}\\'::text, \\'{sup_name}\\'::text, {u_price}::float, {quant}::float);'\u001b[0m\u001b[0;34m\u001b[0m\u001b[0;34m\u001b[0m\u001b[0m\n\u001b[0;32m---> 10\u001b[0;31m         \u001b[0mcursor\u001b[0m\u001b[0;34m.\u001b[0m\u001b[0mexecute\u001b[0m\u001b[0;34m(\u001b[0m\u001b[0mquery\u001b[0m\u001b[0;34m)\u001b[0m\u001b[0;34m\u001b[0m\u001b[0;34m\u001b[0m\u001b[0m\n\u001b[0m",
      "\u001b[0;31mForeignKeyViolation\u001b[0m: insert or update on table \"delivery\" violates foreign key constraint \"delivery_idproduct_fkey\"\nDETAIL:  Key (idproduct)=(22) is not present in table \"product\".\nCONTEXT:  SQL statement \"INSERT INTO more_table.delivery (idproduct, idcountry, idsumplier, unit_price, quantity)\n        VALUES (\n                 id_prod,\n                 (SELECT idcountry FROM  more_table.country WHERE name=c_name),\n                 (SELECT idsaplier FROM  more_table.saplier WHERE name=sup_name),\n                 u_price,\n                 quant\n                )\"\nPL/pgSQL function more_table.insert_deliver_warehouse(text,text,text,double precision,double precision) line 6 at SQL statement\n"
     ]
    }
   ],
   "source": [
    "with conn.cursor() as cursor:\n",
    "    conn.autocommit = True\n",
    "    for row in range(20):\n",
    "        prod_name = data.loc[row, 'Наименоване товара (цена за 1 кг/л)']\n",
    "        c_name = data.loc[row, 'Страна']\n",
    "        sup_name = data.loc[row, 'поставщик']\n",
    "        u_price = data.loc[row, 'Розн. цена с НДС']\n",
    "        quant = data.loc[row, 'Кол-во']\n",
    "        query = f'SELECT  more_table.insert_deliver_warehouse(\\'{prod_name}\\'::text,\\'{c_name}\\'::text, \\'{sup_name}\\'::text, {u_price}::float, {quant}::float);'\n",
    "        cursor.execute(query)"
   ]
  },
  {
   "cell_type": "code",
   "execution_count": 10,
   "metadata": {},
   "outputs": [],
   "source": [
    "with conn.cursor() as cursor:\n",
    "    cursor.execute('SELECT * FROM more_table.country;')\n",
    "    country = [{'id':row[0], 'country':row[1]} for row in cursor.fetchall()]"
   ]
  },
  {
   "cell_type": "code",
   "execution_count": 1,
   "metadata": {},
   "outputs": [],
   "source": [
    "from more_db import More_DB_commnad"
   ]
  },
  {
   "cell_type": "code",
   "execution_count": 2,
   "metadata": {},
   "outputs": [],
   "source": [
    "more_db = More_DB_commnad('more','postgres', '1458', 'localhost')"
   ]
  },
  {
   "cell_type": "code",
   "execution_count": 3,
   "metadata": {},
   "outputs": [
    {
     "data": {
      "text/plain": [
       "[{'id': 1,\n",
       "  'name': 'АЛИДИ-Вест ИООО',\n",
       "  'email': 'АЛИДИ-Вест ИООО@gmail.com',\n",
       "  'tel': '+34241241'},\n",
       " {'id': 2,\n",
       "  'name': 'ДанонБел ИООО',\n",
       "  'email': 'ДанонБел ИООО@gmail.com',\n",
       "  'tel': '+34241241'},\n",
       " {'id': 3,\n",
       "  'name': 'Кока-Кола Бевриджиз Белоруссия УП',\n",
       "  'email': 'Кока-Кола Бевриджиз Белоруссия УП@gmail.com',\n",
       "  'tel': '+34241241'},\n",
       " {'id': 4,\n",
       "  'name': 'Савушкин продукт ОАО',\n",
       "  'email': 'Савушкин продукт ОАО@gmail.com',\n",
       "  'tel': '+34241241'},\n",
       " {'id': 5,\n",
       "  'name': 'Табак-инвест ООО',\n",
       "  'email': 'Табак-инвест ООО@gmail.com',\n",
       "  'tel': '+34241241'},\n",
       " {'id': 6,\n",
       "  'name': 'Алиди-Вест филиал №1 НеСТ',\n",
       "  'email': 'Алиди-Вест филиал №1 НеСТ@gmail.com',\n",
       "  'tel': '+34241241'},\n",
       " {'id': 7,\n",
       "  'name': 'Бритиш-Американ Тобакко Компани',\n",
       "  'email': 'Бритиш-Американ Тобакко Компани@gmail.com',\n",
       "  'tel': '+34241241'},\n",
       " {'id': 8,\n",
       "  'name': 'Мостра-групп Кофе ОДО',\n",
       "  'email': 'Мостра-групп Кофе ОДО@gmail.com',\n",
       "  'tel': '+34241241'},\n",
       " {'id': 9,\n",
       "  'name': 'ООО ЭНЕРГИЯ',\n",
       "  'email': 'ООО ЭНЕРГИЯ@gmail.com',\n",
       "  'tel': '+34241241'},\n",
       " {'id': 10,\n",
       "  'name': 'Диакония УП',\n",
       "  'email': 'Диакония УП@gmail.com',\n",
       "  'tel': '+34241241'},\n",
       " {'id': 11,\n",
       "  'name': 'Мостра Групп ОДО',\n",
       "  'email': 'Мостра Групп ОДО@gmail.com',\n",
       "  'tel': '+34241241'},\n",
       " {'id': 12,\n",
       "  'name': 'Продуктория ООО',\n",
       "  'email': 'Продуктория ООО@gmail.com',\n",
       "  'tel': '+34241241'},\n",
       " {'id': 13,\n",
       "  'name': 'Туссон плюс ООО',\n",
       "  'email': 'Туссон плюс ООО@gmail.com',\n",
       "  'tel': '+34241241'},\n",
       " {'id': 14,\n",
       "  'name': 'Маркетинговая Инновационная Группа ООО',\n",
       "  'email': 'Маркетинговая Инновационная Группа ООО@gmail.com',\n",
       "  'tel': '+34241241'},\n",
       " {'id': 15,\n",
       "  'name': 'Корпорация НОЯКС ООО',\n",
       "  'email': 'Корпорация НОЯКС ООО@gmail.com',\n",
       "  'tel': '+34241241'},\n",
       " {'id': 16,\n",
       "  'name': 'Шедевры вкуса ООО',\n",
       "  'email': 'Шедевры вкуса ООО@gmail.com',\n",
       "  'tel': '+34241241'},\n",
       " {'id': 17,\n",
       "  'name': 'Белвингрупп СООО',\n",
       "  'email': 'Белвингрупп СООО@gmail.com',\n",
       "  'tel': '+34241241'},\n",
       " {'id': 18,\n",
       "  'name': 'Брестская областная база Бакалея ОАО',\n",
       "  'email': 'Брестская областная база Бакалея ОАО@gmail.com',\n",
       "  'tel': '+34241241'},\n",
       " {'id': 19,\n",
       "  'name': 'Морозпродукт СООО',\n",
       "  'email': 'Морозпродукт СООО@gmail.com',\n",
       "  'tel': '+34241241'},\n",
       " {'id': 20,\n",
       "  'name': 'Бобруйский бровар ЗАО',\n",
       "  'email': 'Бобруйский бровар ЗАО@gmail.com',\n",
       "  'tel': '+34241241'},\n",
       " {'id': 21,\n",
       "  'name': 'Сильвер фуд ООО',\n",
       "  'email': 'Сильвер фуд ООО@gmail.com',\n",
       "  'tel': '+34241241'},\n",
       " {'id': 22,\n",
       "  'name': 'Заславская Кондитерская Фабрика ООО',\n",
       "  'email': 'Заславская Кондитерская Фабрика ООО@gmail.com',\n",
       "  'tel': '+34241241'},\n",
       " {'id': 23,\n",
       "  'name': 'Амберхоп ООО',\n",
       "  'email': 'Амберхоп ООО@gmail.com',\n",
       "  'tel': '+34241241'},\n",
       " {'id': 24,\n",
       "  'name': 'КДВ БЕЛ Иностранное унитарное предприятие',\n",
       "  'email': 'КДВ БЕЛ Иностранное унитарное предприятие@gmail.com',\n",
       "  'tel': '+34241241'},\n",
       " {'id': 25, 'name': 'nan', 'email': 'nan@gmail.com', 'tel': '+34241241'}]"
      ]
     },
     "execution_count": 3,
     "metadata": {},
     "output_type": "execute_result"
    }
   ],
   "source": [
    "more_db.select_suplier()"
   ]
  },
  {
   "cell_type": "code",
   "execution_count": 4,
   "metadata": {},
   "outputs": [],
   "source": [
    "import sys"
   ]
  },
  {
   "cell_type": "code",
   "execution_count": 8,
   "metadata": {},
   "outputs": [],
   "source": [
    "sys.path.append('/home/uladzimir/MORE/MORE_FAST_API/model')"
   ]
  },
  {
   "cell_type": "code",
   "execution_count": 9,
   "metadata": {},
   "outputs": [
    {
     "data": {
      "text/plain": [
       "['/home/uladzimir/MORE/MORE_FAST_API/model',\n",
       " '/home/uladzimir/.vscode/extensions/ms-toolsai.jupyter-2021.11.1001550889/pythonFiles',\n",
       " '/home/uladzimir/.vscode/extensions/ms-toolsai.jupyter-2021.11.1001550889/pythonFiles/lib/python',\n",
       " '/home/uladzimir/anaconda3/envs/more/lib/python310.zip',\n",
       " '/home/uladzimir/anaconda3/envs/more/lib/python3.10',\n",
       " '/home/uladzimir/anaconda3/envs/more/lib/python3.10/lib-dynload',\n",
       " '',\n",
       " '/home/uladzimir/anaconda3/envs/more/lib/python3.10/site-packages',\n",
       " '/home/uladzimir/anaconda3/envs/more/lib/python3.10/site-packages/IPython/extensions',\n",
       " '/home/uladzimir/.ipython',\n",
       " '/',\n",
       " '/home/uladzimir/MORE/MORE_FAST_API/model']"
      ]
     },
     "execution_count": 9,
     "metadata": {},
     "output_type": "execute_result"
    }
   ],
   "source": [
    "sys.path"
   ]
  }
 ],
 "metadata": {
  "interpreter": {
   "hash": "21b2d9379dd9311d3c8e890cb1cffc89001826da6d3359058aa82837226a6a5b"
  },
  "kernelspec": {
   "display_name": "Python 3.10.0 64-bit ('more': conda)",
   "language": "python",
   "name": "python3"
  },
  "language_info": {
   "codemirror_mode": {
    "name": "ipython",
    "version": 3
   },
   "file_extension": ".py",
   "mimetype": "text/x-python",
   "name": "python",
   "nbconvert_exporter": "python",
   "pygments_lexer": "ipython3",
   "version": "3.10.0"
  },
  "orig_nbformat": 4
 },
 "nbformat": 4,
 "nbformat_minor": 2
}
